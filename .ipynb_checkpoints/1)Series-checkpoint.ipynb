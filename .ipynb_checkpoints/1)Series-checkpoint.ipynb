{
 "cells": [
  {
   "cell_type": "markdown",
   "id": "f778d443",
   "metadata": {},
   "source": [
    "**Pandas series**\n",
    "\n",
    "\n",
    "\n",
    "A Series is a one-dimensional labelled array capable of holding any data type . The axis labels are collectively called the index .\n",
    "\n"
   ]
  },
  {
   "cell_type": "markdown",
   "id": "3807d27e",
   "metadata": {},
   "source": [
    "**Creating Series**\n",
    "\n",
    "There aremultiple ways to create a pandas Series"
   ]
  },
  {
   "cell_type": "code",
   "execution_count": null,
   "id": "d016f966",
   "metadata": {},
   "outputs": [],
   "source": [
    "import numpy as np\n",
    "import pandas as pd"
   ]
  },
  {
   "cell_type": "code",
   "execution_count": null,
   "id": "fdb70df1",
   "metadata": {},
   "outputs": [],
   "source": [
    "import pandas\n",
    "\n",
    "\n",
    "pit install "
   ]
  },
  {
   "cell_type": "code",
   "execution_count": null,
   "id": "ca2e9522",
   "metadata": {},
   "outputs": [],
   "source": [
    "labels = ['a','b','c']\n",
    "my_list =[10,20,30]\n",
    "arr = np.array([10,20,30])\n",
    "d = {1:10,2:20,3:30}"
   ]
  },
  {
   "cell_type": "code",
   "execution_count": null,
   "id": "aa6e0f15",
   "metadata": {},
   "outputs": [],
   "source": [
    "pd.Series(my_list)"
   ]
  },
  {
   "cell_type": "code",
   "execution_count": null,
   "id": "30a944b1",
   "metadata": {},
   "outputs": [],
   "source": []
  },
  {
   "cell_type": "code",
   "execution_count": null,
   "id": "9932e34f",
   "metadata": {},
   "outputs": [],
   "source": []
  },
  {
   "cell_type": "code",
   "execution_count": null,
   "id": "c15473df",
   "metadata": {},
   "outputs": [],
   "source": []
  },
  {
   "cell_type": "code",
   "execution_count": null,
   "id": "7f744a3e",
   "metadata": {},
   "outputs": [],
   "source": []
  }
 ],
 "metadata": {
  "kernelspec": {
   "display_name": "base",
   "language": "python",
   "name": "python3"
  },
  "language_info": {
   "codemirror_mode": {
    "name": "ipython",
    "version": 3
   },
   "file_extension": ".py",
   "mimetype": "text/x-python",
   "name": "python",
   "nbconvert_exporter": "python",
   "pygments_lexer": "ipython3",
   "version": "3.13.5"
  }
 },
 "nbformat": 4,
 "nbformat_minor": 5
}
