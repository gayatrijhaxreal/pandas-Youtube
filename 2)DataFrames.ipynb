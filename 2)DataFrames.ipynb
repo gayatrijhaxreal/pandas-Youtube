{
 "cells": [
  {
   "cell_type": "code",
   "execution_count": 4,
   "id": "8a35fa98",
   "metadata": {},
   "outputs": [],
   "source": [
    "import numpy as np\n",
    "import pandas as pd"
   ]
  },
  {
   "cell_type": "markdown",
   "id": "b7a21772",
   "metadata": {},
   "source": [
    "**creating a data frames**\n"
   ]
  },
  {
   "cell_type": "code",
   "execution_count": null,
   "id": "c03e5eec",
   "metadata": {},
   "outputs": [],
   "source": [
    "data = {\n",
    "    'Name' :  ['John','Anna','Peter', 'Linda'],\n",
    "    'Age' :   [28,34,29,42],\n",
    "    'City':   ['New York' , 'Paris','Berlin','London'],\n",
    "    'Salary': [65000,70000,62000,85000]\n",
    "}"
   ]
  },
  {
   "cell_type": "code",
   "execution_count": null,
   "id": "ad144d2c",
   "metadata": {},
   "outputs": [],
   "source": []
  },
  {
   "cell_type": "code",
   "execution_count": null,
   "id": "6c461f42",
   "metadata": {},
   "outputs": [],
   "source": []
  },
  {
   "cell_type": "code",
   "execution_count": null,
   "metadata": {},
   "outputs": [],
   "source": []
  },
  {
   "cell_type": "code",
   "execution_count": null,
   "id": "88ee0e5b",
   "metadata": {},
   "outputs": [],
   "source": []
  },
  {
   "cell_type": "markdown",
   "id": "57ed0621",
   "metadata": {},
   "source": [
    "**Selection and Indexing of Columns**\n"
   ]
  },
  {
   "cell_type": "markdown",
   "id": "d85aee61",
   "metadata": {},
   "source": [
    "**Creating a  New column**"
   ]
  },
  {
   "cell_type": "markdown",
   "id": "0a258625",
   "metadata": {},
   "source": [
    "**Removing Columns**"
   ]
  },
  {
   "cell_type": "markdown",
   "id": "1b99a99b",
   "metadata": {},
   "source": [
    "**Selecting Rows**"
   ]
  },
  {
   "cell_type": "markdown",
   "id": "a6f42fb7",
   "metadata": {},
   "source": [
    "**Selecting Subsets Of Rows and Columns**"
   ]
  },
  {
   "cell_type": "markdown",
   "id": "b966a0c7",
   "metadata": {},
   "source": [
    "**Conditional Selection**"
   ]
  }
 ],
 "metadata": {
  "kernelspec": {
   "display_name": "base",
   "language": "python",
   "name": "python3"
  },
  "language_info": {
   "codemirror_mode": {
    "name": "ipython",
    "version": 3
   },
   "file_extension": ".py",
   "mimetype": "text/x-python",
   "name": "python",
   "nbconvert_exporter": "python",
   "pygments_lexer": "ipython3",
   "version": "3.13.5"
  }
 },
 "nbformat": 4,
 "nbformat_minor": 5
}
